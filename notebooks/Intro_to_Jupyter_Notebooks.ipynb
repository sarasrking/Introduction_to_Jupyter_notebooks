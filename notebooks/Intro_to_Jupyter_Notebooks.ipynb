{
 "cells": [
  {
   "cell_type": "code",
   "execution_count": 1,
   "metadata": {},
   "outputs": [],
   "source": [
    "# Let's go for a dip with Python"
   ]
  },
  {
   "cell_type": "markdown",
   "metadata": {},
   "source": [
    "# this is a string"
   ]
  },
  {
   "cell_type": "code",
   "execution_count": 2,
   "metadata": {},
   "outputs": [],
   "source": [
    "# this is a string"
   ]
  },
  {
   "cell_type": "code",
   "execution_count": 3,
   "metadata": {},
   "outputs": [
    {
     "name": "stdout",
     "output_type": "stream",
     "text": [
      "this is a string\n"
     ]
    }
   ],
   "source": [
    "print (\"this is a string\")"
   ]
  },
  {
   "cell_type": "code",
   "execution_count": 4,
   "metadata": {},
   "outputs": [
    {
     "name": "stdout",
     "output_type": "stream",
     "text": [
      "\"this is a string\"\n"
     ]
    }
   ],
   "source": [
    "print (\"\\\"this is a string\\\"\")"
   ]
  },
  {
   "cell_type": "code",
   "execution_count": 5,
   "metadata": {},
   "outputs": [],
   "source": [
    "# Ready to splash a little with Python"
   ]
  },
  {
   "cell_type": "code",
   "execution_count": 6,
   "metadata": {},
   "outputs": [
    {
     "data": {
      "text/plain": [
       "[1, 2, 3, 4, 5, 6, 7, 8, 9, 10, 11, 12, 13, 14, 15, 16, 17, 18, 19]"
      ]
     },
     "execution_count": 6,
     "metadata": {},
     "output_type": "execute_result"
    }
   ],
   "source": [
    "list(range(1,20))"
   ]
  },
  {
   "cell_type": "code",
   "execution_count": 7,
   "metadata": {},
   "outputs": [
    {
     "name": "stdout",
     "output_type": "stream",
     "text": [
      "190\n"
     ]
    }
   ],
   "source": [
    "a = list(range(1,20))\n",
    "x = sum(a)\n",
    "print(x)"
   ]
  },
  {
   "cell_type": "code",
   "execution_count": 8,
   "metadata": {},
   "outputs": [],
   "source": [
    "# Paddling with Python"
   ]
  },
  {
   "cell_type": "code",
   "execution_count": 9,
   "metadata": {},
   "outputs": [
    {
     "name": "stdout",
     "output_type": "stream",
     "text": [
      "Jack\n",
      "Queen\n",
      "King\n"
     ]
    }
   ],
   "source": [
    "arr = [\"Jack\", \"Queen\", \"King\"]\n",
    "print(arr[0])\n",
    "print(arr[1])\n",
    "print(arr[2])"
   ]
  },
  {
   "cell_type": "code",
   "execution_count": 10,
   "metadata": {},
   "outputs": [
    {
     "name": "stdout",
     "output_type": "stream",
     "text": [
      "{'employee': 'Juanita Lopez', 'salary': 81000, 'startdate': '2010-11-1'}\n",
      "{'employee': 'Peter Gynn', 'salary': 83400, 'startdate': '2008-3-25'}\n",
      "{'employee': 'Jolie Talofa', 'salary': 96800, 'startdate': '2007-3-14'}\n"
     ]
    }
   ],
   "source": [
    "d = {'employee': 'Juanita Lopez','salary':81000, 'startdate': '2010-11-1'}\n",
    "e = {'employee': 'Peter Gynn','salary':83400, 'startdate': '2008-3-25'}\n",
    "f = {'employee': 'Jolie Talofa','salary':96800, 'startdate': '2007-3-14'}\n",
    "print (d)\n",
    "print (e)\n",
    "print (f)"
   ]
  },
  {
   "cell_type": "code",
   "execution_count": 11,
   "metadata": {},
   "outputs": [
    {
     "data": {
      "text/plain": [
       "dict_keys(['employee', 'salary', 'startdate'])"
      ]
     },
     "execution_count": 11,
     "metadata": {},
     "output_type": "execute_result"
    }
   ],
   "source": [
    "d.keys()"
   ]
  },
  {
   "cell_type": "code",
   "execution_count": 12,
   "metadata": {},
   "outputs": [
    {
     "data": {
      "text/plain": [
       "dict_values(['Juanita Lopez', 81000, '2010-11-1'])"
      ]
     },
     "execution_count": 12,
     "metadata": {},
     "output_type": "execute_result"
    }
   ],
   "source": [
    "d.values()"
   ]
  },
  {
   "cell_type": "code",
   "execution_count": 13,
   "metadata": {},
   "outputs": [
    {
     "data": {
      "text/plain": [
       "dict_items([('employee', 'Juanita Lopez'), ('salary', 81000), ('startdate', '2010-11-1')])"
      ]
     },
     "execution_count": 13,
     "metadata": {},
     "output_type": "execute_result"
    }
   ],
   "source": [
    "d.items()"
   ]
  },
  {
   "cell_type": "code",
   "execution_count": 14,
   "metadata": {},
   "outputs": [
    {
     "name": "stdout",
     "output_type": "stream",
     "text": [
      "employee Juanita Lopez\n",
      "salary 81000\n",
      "startdate 2010-11-1\n"
     ]
    }
   ],
   "source": [
    "for k,v in d.items():\n",
    "    print(k, v)"
   ]
  },
  {
   "cell_type": "code",
   "execution_count": 15,
   "metadata": {},
   "outputs": [
    {
     "name": "stdout",
     "output_type": "stream",
     "text": [
      "employee Peter Gynn\n",
      "salary 83400\n",
      "startdate 2008-3-25\n"
     ]
    }
   ],
   "source": [
    "for k,v in e.items():\n",
    "    print(k, v)"
   ]
  },
  {
   "cell_type": "code",
   "execution_count": 16,
   "metadata": {},
   "outputs": [],
   "source": [
    "# Swimming with Python"
   ]
  },
  {
   "cell_type": "code",
   "execution_count": 17,
   "metadata": {},
   "outputs": [
    {
     "name": "stdout",
     "output_type": "stream",
     "text": [
      "{'red': 'rot', 'blue': 'blau', 'yellow': 'gelb'}\n"
     ]
    }
   ],
   "source": [
    "# -*- coding: iso-8859-1 -*-\n",
    "en_de = {\"red\" : \"rot\", \"blue\" : \"blau\", \"yellow\" : \"gelb\"}\n",
    "print (en_de)"
   ]
  },
  {
   "cell_type": "code",
   "execution_count": 18,
   "metadata": {},
   "outputs": [
    {
     "name": "stdout",
     "output_type": "stream",
     "text": [
      "rot\n"
     ]
    }
   ],
   "source": [
    "print (en_de[\"red\"])"
   ]
  },
  {
   "cell_type": "code",
   "execution_count": 19,
   "metadata": {},
   "outputs": [
    {
     "name": "stdout",
     "output_type": "stream",
     "text": [
      "The French word for red is: rouge\n"
     ]
    }
   ],
   "source": [
    "de_fr = {\"rot\" : \"rouge\", \"blau\" : \"bleu\", \"gelb\" : \"jaune\"}\n",
    "print (\"The French word for red is: \" + de_fr[en_de[\"red\"]])"
   ]
  },
  {
   "cell_type": "code",
   "execution_count": null,
   "metadata": {},
   "outputs": [],
   "source": []
  }
 ],
 "metadata": {
  "kernelspec": {
   "display_name": "Python 3",
   "language": "python",
   "name": "python3"
  },
  "language_info": {
   "codemirror_mode": {
    "name": "ipython",
    "version": 3
   },
   "file_extension": ".py",
   "mimetype": "text/x-python",
   "name": "python",
   "nbconvert_exporter": "python",
   "pygments_lexer": "ipython3",
   "version": "3.6.5"
  }
 },
 "nbformat": 4,
 "nbformat_minor": 2
}